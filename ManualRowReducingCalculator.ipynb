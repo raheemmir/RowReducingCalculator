{
 "cells": [
  {
   "cell_type": "markdown",
   "id": "8c7cb27b",
   "metadata": {},
   "source": [
    "## Welcome to the Matrix Row Reducing Calculator!\n",
    "Performing row operations to get a matrix in rref can be a tedious process, especially when it comes to making computational mistakes. Now, most online calculators handle this problem, which is great, but they also handle the thinking required to come up with row operations, so you lose out on the fun!<br> This calculator is the best of both worlds, you get to enjoy coming up with the row operations, and the calculator handles all the computation!"
   ]
  },
  {
   "cell_type": "markdown",
   "id": "a66f0fe6",
   "metadata": {},
   "source": [
    "#### Run the code cell below so we can get started! Do this by selecting the cell and pressing `shift` + `enter` "
   ]
  },
  {
   "cell_type": "code",
   "execution_count": 7,
   "id": "8b649f11",
   "metadata": {},
   "outputs": [],
   "source": [
    "#You can also run cells by pressing the run button in the toolbar at the top\n",
    "from sympy import *\n",
    "from fractions import Fraction\n",
    "init_printing()"
   ]
  },
  {
   "cell_type": "markdown",
   "id": "bb626fb3",
   "metadata": {},
   "source": [
    "#### Now its time to define our Matrix! We will be using SymPy's `Matrix()` object.   \n",
    "First, create a variable and set it equal to `Matrix([])`. <br>\n",
    "Inside the `([])` will be the rows of your matrix, each enclosed by `[]`. <br>\n",
    "When entering in the values of each row, make sure to use commas between values and between the rows themselves. <br>  Now, we must ouput the matrix we've made! Do this by typing what you named the matrix on the next line. Here's an example of what this looks like: <br> `M = Matrix([ [1, 2, 3], [2, 4, 6], [3, 6, 9] ])` &rarr; creates a 3x3 matrix named M and inputs the corresponding values <br> `M` &rarr; outputs the matrix <br>\n",
    "#### You can get started in the cell below!"
   ]
  },
  {
   "cell_type": "code",
   "execution_count": 8,
   "id": "07fb8425",
   "metadata": {},
   "outputs": [
    {
     "data": {
      "image/png": "[encoded data removed]",
      "text/latex": [
       "$\\displaystyle \\left[\\begin{matrix}1 & 0 & 0\\\\0 & 1 & 0\\\\0 & 0 & 1\\end{matrix}\\right]$"
      ],
      "text/plain": [
       "⎡1  0  0⎤\n",
       "⎢       ⎥\n",
       "⎢0  1  0⎥\n",
       "⎢       ⎥\n",
       "⎣0  0  1⎦"
      ]
     },
     "execution_count": 8,
     "metadata": {},
     "output_type": "execute_result"
    }
   ],
   "source": [
    "#Here's the code already written for you, just plug in your numbers/values and run the cell at the top\n",
    "M = Matrix([[1, 0, 0], [0, 1, 0], [0, 0, 1]]) \n",
    "M"
   ]
  },
  {
   "cell_type": "code",
   "execution_count": 9,
   "id": "48f1d971",
   "metadata": {},
   "outputs": [
    {
     "data": {
      "image/png": "[encoded data removed]",
      "text/latex": [
       "$\\displaystyle \\left[\\begin{matrix}1 & 0 & 0\\\\0 & 1 & 0\\\\0 & 0 & 1\\end{matrix}\\right]$"
      ],
      "text/plain": [
       "⎡1  0  0⎤\n",
       "⎢       ⎥\n",
       "⎢0  1  0⎥\n",
       "⎢       ⎥\n",
       "⎣0  0  1⎦"
      ]
     },
     "execution_count": 9,
     "metadata": {},
     "output_type": "execute_result"
    }
   ],
   "source": [
    "#Just need the rref of a matrix? check out this example below:\n",
    "R = M.rref()[0]\n",
    "R"
   ]
  },
  {
   "cell_type": "code",
   "execution_count": 6,
   "id": "94126621",
   "metadata": {},
   "outputs": [],
   "source": [
    "#Elementary Row Operations\n",
    "def rowSwap(M, i, j):\n",
    "    ResultMatrix =  M.elementary_row_op(op='n<->m',row1=i-1, row2=j-1)\n",
    "    return ResultMatrix\n",
    "def rowMultiply(M, i , c):\n",
    "    ResultMatrix = M.elementary_row_op(op='n->kn',row=i-1, k=c)\n",
    "    return ResultMatrix\n",
    "def rowAdd(M, i, c, j):\n",
    "    ResultMatrix = M.elementary_row_op(op='n->n+km',row=i-1, k=c, row2=j-1)\n",
    "    return ResultMatrix\n",
    "\n",
    "#Functions to retrieve input from the user\n",
    "\n",
    "def containsNumber(FractionInput):\n",
    "    return any([char.isdigit() for char in FractionInput])\n",
    "\n",
    "def UserInputFrac():\n",
    "    cTemp = ''\n",
    "        \n",
    "    while containsNumber(cTemp) == False:\n",
    "        try:\n",
    "            cTemp = input(\"What are you multiplying by? \")\n",
    "            c = Fraction(cTemp)\n",
    "            break\n",
    "        except ValueError:\n",
    "            print(\"Try entering a fraction next time... \", \"\\n\")\n",
    "            continue\n",
    "    \n",
    "    return c\n",
    "\n",
    "def UserInputc():\n",
    "    c = ''\n",
    "        \n",
    "    while c is not int:\n",
    "        try:\n",
    "            c = int(input(\"What are you multiplying by? \"))\n",
    "            break\n",
    "        except ValueError:\n",
    "            print(\"Try entering an integer next time... \", \"\\n\")\n",
    "            continue\n",
    "    return c\n",
    "   \n",
    "def UserInputi1():\n",
    "    i = ''\n",
    "        \n",
    "    while i is not int:\n",
    "        try:\n",
    "            i = int(input(\"What is the index of the first row? \"))\n",
    "            break\n",
    "        except ValueError:\n",
    "            print(\"Try entering an integer next time... \")\n",
    "            continue\n",
    "    return i\n",
    "\n",
    "def UserInputj1():\n",
    "    j = ''\n",
    "        \n",
    "    while j is not int:\n",
    "        try:\n",
    "            j = int(input(\"What is the index of the other row we're swapping with? \" ))\n",
    "            break\n",
    "        except ValueError:\n",
    "            print(\"Try entering an integer next time... \")\n",
    "            continue\n",
    "    return j\n",
    "\n",
    "def UserInputi3():\n",
    "    i = ''\n",
    "        \n",
    "    while i is not int:\n",
    "        try:\n",
    "            i = int(input(\"What row is getting added to/subtracted from? \"))\n",
    "            break\n",
    "        except ValueError:\n",
    "            print(\"Try entering an integer next time... \")\n",
    "            continue\n",
    "    return i\n",
    "\n",
    "def UserInputj3(i):\n",
    "    j = ''\n",
    "    prompt = \"Which row is being added to row \" + str(i) + \"? \"\n",
    "    \n",
    "    while j is not int:\n",
    "        try:\n",
    "            #print (\"Which row is being added to row \", i, \"? \", sep=\"\")\n",
    "            j = int(input(prompt))\n",
    "            break\n",
    "        except ValueError:\n",
    "            print(\"Try entering an integer next time... \")\n",
    "            continue\n",
    "    return j\n",
    "\n",
    "def UserInputFrac3(j):\n",
    "    cTemp = ''\n",
    "    prompt = \"What are you multiplying row \" + str(j) + \" by? \"\n",
    "\n",
    "\n",
    "    while containsNumber(cTemp) == False:\n",
    "        try:\n",
    "            cTemp = input(prompt)\n",
    "            c = Fraction(cTemp)\n",
    "            break\n",
    "        except ValueError:\n",
    "            print(\"Try entering a fraction next time... \", \"\\n\")\n",
    "            continue\n",
    "    \n",
    "    return c\n",
    "\n",
    "def UserInputc3(j):\n",
    "    c = ''\n",
    "    prompt = \"What are you multiplying row \" + str(j) + \" by? \"\n",
    "        \n",
    "    while c is not int:\n",
    "        try:\n",
    "            c = int(input(prompt))\n",
    "            break\n",
    "        except ValueError:\n",
    "            print(\"Try entering an integer next time... \", \"\\n\")\n",
    "            continue\n",
    "    return c\n",
    "\n",
    "\n",
    "def InitialMessage():\n",
    "    UserInput = ''\n",
    "    prompt = \"Which Elementary Row Operation would you like to perform? \"\n",
    "\n",
    "    while UserInput is not int:\n",
    "        try:\n",
    "            UserInput = int(input(prompt))\n",
    "            break\n",
    "        except ValueError:\n",
    "            print(\"Please try again... \")\n",
    "            continue\n",
    "            \n",
    "    return UserInput\n",
    "\n",
    "#The Program itself\n",
    "def DoRowOperations(M):\n",
    "    \n",
    "    print(\"Welcome to the Row Reducing Calculator!!\", \"\\n\")\n",
    "    \n",
    "    while (M != R):\n",
    "\n",
    "        UserInput = InitialMessage()\n",
    "        print(\"\\n\")\n",
    "        \n",
    "        #Swap two rows\n",
    "        if UserInput == 1:\n",
    "            print(\"Let's interchange two rows! \")\n",
    "            i = UserInputi1()\n",
    "            j = UserInputj1()\n",
    "            M = rowSwap(M, i, j)\n",
    "            pprint(M)\n",
    "            print('\\n')\n",
    "\n",
    "        #Multiply a row by a constant\n",
    "        if UserInput == 2:\n",
    "            print(\"Let's multiply a row by a constant! \")\n",
    "            i = int(input(\"What row is being multiplied? \"))\n",
    "            willThereBeFrac = input(\"Are you multiplying by a fraction? (yes/no) \")\n",
    "            if willThereBeFrac == \"yes\":\n",
    "                c = UserInputFrac()\n",
    "            else:\n",
    "                c = UserInputc()\n",
    "            M = rowMultiply(M, i, c)\n",
    "            pprint(M)\n",
    "            print('\\n')\n",
    "    \n",
    "        #Add/Subtract a multiple of one row from another\n",
    "        if UserInput == 3:\n",
    "            print(\"Let's add a multiple of one row to another row!  \")\n",
    "            i = UserInputi3()\n",
    "            j = UserInputj3(i)\n",
    "            willThereBeFrac = input(\"Are you multiplying by a fraction? (yes/no) \")\n",
    "            if (willThereBeFrac == \"yes\") or (willThereBeFrac == \"y\"):\n",
    "                c = UserInputFrac3(j)\n",
    "            else:\n",
    "                c = UserInputc3(j)\n",
    "            M = rowAdd(M, i, c, j)\n",
    "            pprint(M)\n",
    "            print('\\n')\n",
    "        \n",
    "        #Exit the loop for whatever reason\n",
    "        if UserInput == 404:\n",
    "            print(\"Thanks for using the calculator!\")\n",
    "            break\n",
    "    print(\"You did it! Thanks for using the calculator!\", \"\\n\")\n",
    "    return M"
   ]
  },
  {
   "cell_type": "markdown",
   "id": "c9e35565",
   "metadata": {},
   "source": [
    "### Let's start doing Row Operations!\n",
    "**All you need to do is run the cell below (`shift` + `enter`) and follow the prompts.**  <br>\n",
    "**Before running the cell below make sure the name of your matrix you defined above is inside of the** `()` <br>\n",
    "##### To Perform Row Operations:  <br>\n",
    "Type `1` to **swap/interchange** rows <br>\n",
    "Type `2` to **multiply** a row by a constant <br>\n",
    "Type `3` to **add/subtract** a multiple of one row from another\n",
    "\n"
   ]
  },
  {
   "cell_type": "code",
   "execution_count": 5,
   "id": "c836ebcc",
   "metadata": {
    "scrolled": false
   },
   "outputs": [
    {
     "name": "stdout",
     "output_type": "stream",
     "text": [
      "Welcome to the Row Reducing Calculator!! \n",
      "\n",
      "You did it! Thanks for using the calculator! \n",
      "\n"
     ]
    },
    {
     "data": {
      "image/png": "[encoded data removed]",
      "text/latex": [
       "$\\displaystyle \\left[\\begin{matrix}1 & 0 & 0\\\\0 & 1 & 0\\\\0 & 0 & 1\\end{matrix}\\right]$"
      ],
      "text/plain": [
       "⎡1  0  0⎤\n",
       "⎢       ⎥\n",
       "⎢0  1  0⎥\n",
       "⎢       ⎥\n",
       "⎣0  0  1⎦"
      ]
     },
     "execution_count": 5,
     "metadata": {},
     "output_type": "execute_result"
    }
   ],
   "source": [
    "DoRowOperations(M)"
   ]
  },
  {
   "cell_type": "code",
   "execution_count": null,
   "id": "0ada8f0d",
   "metadata": {},
   "outputs": [],
   "source": []
  }
 ],
 "metadata": {
  "kernelspec": {
   "display_name": "Python 3 (ipykernel)",
   "language": "python",
   "name": "python3"
  },
  "language_info": {
   "codemirror_mode": {
    "name": "ipython",
    "version": 3
   },
   "file_extension": ".py",
   "mimetype": "text/x-python",
   "name": "python",
   "nbconvert_exporter": "python",
   "pygments_lexer": "ipython3",
   "version": "3.9.7"
  }
 },
 "nbformat": 4,
 "nbformat_minor": 5
}
