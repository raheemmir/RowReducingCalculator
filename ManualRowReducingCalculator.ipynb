{
 "cells": [
  {
   "cell_type": "markdown",
   "id": "8c7cb27b",
   "metadata": {},
   "source": [
    "## Welcome to this Matrix RREF Calculator!\n",
    "Performing row operations to get a matrix in rref can be a tedious process, especially when it comes to making computational mistakes. Now, most online calculators handle this problem, which is great, but they also handle the thinking required to come up with row operations, so you lose out on the fun!<br> This calculator is the best of both worlds, you get to enjoy coming up with the row operations, and the calculator handles all the computation!"
   ]
  },
  {
   "cell_type": "markdown",
   "id": "a66f0fe6",
   "metadata": {},
   "source": [
    "**Run the cell below! Do this by selecting the cell and pressing `shift` + `enter` or by using the Run button in the toolbar at the top.** \n"
   ]
  },
  {
   "cell_type": "code",
   "execution_count": 1,
   "id": "8b649f11",
   "metadata": {},
   "outputs": [],
   "source": [
    "from sympy import *\n",
    "from fractions import Fraction\n",
    "init_printing()"
   ]
  },
  {
   "cell_type": "markdown",
   "id": "c9978941",
   "metadata": {},
   "source": [
    "**Recommended: If you want to Run all cells in the notebook press the double triangle/play button in the toolbar at the top.**"
   ]
  },
  {
   "cell_type": "markdown",
   "id": "bb626fb3",
   "metadata": {},
   "source": [
    "### It's time to define our Matrix! We will be using SymPy's `Matrix()` object. \n",
    "1. First, we create a variable and set it equal to `Matrix([])`. <br>\n",
    "`M = Matrix([])` <br>\n",
    "2. Next, we populate the `([])` with the values of our matrix, making sure to enclose each row with `[]` and seperating everything with commas. <br>\n",
    "`M = Matrix([ [1, 2, 3], [4, 5, 6], [7, 8, 9] ])` <br>\n",
    "3. Lastly, we output our matrix by typing what we named our variable on the line below. <br>\n",
    "`M = Matrix([ [1, 2, 3], [4, 5, 6], [7, 8, 9] ])` <br>\n",
    "`M` <br>\n",
    "\n",
    "#### You can get started below! "
   ]
  },
  {
   "cell_type": "markdown",
   "id": "401033aa",
   "metadata": {},
   "source": [
    "#### Getting an error entering in your Matrix?\n",
    "A `TypeError` could mean you are missing a comma or even have an extra comma after a row. <br>\n",
    "A `SyntaxError` could mean you are missing a comma somewhere or a bracket. <br>"
   ]
  },
  {
   "cell_type": "code",
   "execution_count": 2,
   "id": "07fb8425",
   "metadata": {
    "scrolled": true
   },
   "outputs": [
    {
     "data": {
      "image/png": "[encoded data removed]",
      "text/latex": [
       "$\\displaystyle \\left[\\begin{matrix}1 & 2 & 3\\\\2 & 4 & 6\\\\3 & 6 & 9\\end{matrix}\\right]$"
      ],
      "text/plain": [
       "⎡1  2  3⎤\n",
       "⎢       ⎥\n",
       "⎢2  4  6⎥\n",
       "⎢       ⎥\n",
       "⎣3  6  9⎦"
      ]
     },
     "execution_count": 2,
     "metadata": {},
     "output_type": "execute_result"
    }
   ],
   "source": [
    "#Here's the code already written for you, just plug in your numbers/values and press the double triangle button!!\n",
    "M = Matrix([[1, 2, 3], [2, 4, 6], [3, 6, 9]]) \n",
    "M"
   ]
  },
  {
   "cell_type": "markdown",
   "id": "bfb60bd3",
   "metadata": {},
   "source": [
    "#### Now is a good time to run all the cells in the notebook! Do this by pressing the double triangle/play button in the top toolbar."
   ]
  },
  {
   "cell_type": "code",
   "execution_count": 3,
   "id": "94126621",
   "metadata": {
    "tags": [
     "hide-input"
    ]
   },
   "outputs": [
    {
     "data": {
      "text/html": [
       "<script>\n",
       "code_show=true; \n",
       "function code_toggle() {\n",
       " if (code_show){\n",
       " $('.cm-comment:contains(@hidden)').closest('div.input').hide();\n",
       " } else {\n",
       " $('.cm-comment:contains(@hidden)').closest('div.input').show();\n",
       " }\n",
       " code_show = !code_show\n",
       "} \n",
       "$( document ).ready(code_toggle);\n",
       "</script>\n",
       "Want to hide or reveal the source code? click <a href=\"javascript:code_toggle()\">here</a>."
      ],
      "text/plain": [
       "<IPython.core.display.HTML object>"
      ]
     },
     "execution_count": 3,
     "metadata": {},
     "output_type": "execute_result"
    }
   ],
   "source": [
    "#This tells us the number of rows in our matrix\n",
    "def findRowNum(M):\n",
    "    RowNum = shape(M)[0]\n",
    "    return RowNum\n",
    "    \n",
    "#This tells us the RREF of The Matrix\n",
    "def findRREF(M):\n",
    "    R = M.rref()[0]\n",
    "    return R\n",
    "\n",
    "#Elementary Row Operations\n",
    "def rowSwap(M, i, j):\n",
    "    ResultMatrix =  M.elementary_row_op(op='n<->m',row1=i-1, row2=j-1)\n",
    "    return ResultMatrix\n",
    "def rowMultiply(M, i , c):\n",
    "    ResultMatrix = M.elementary_row_op(op='n->kn',row=i-1, k=c)\n",
    "    return ResultMatrix\n",
    "def rowAdd(M, i, c, j):\n",
    "    ResultMatrix = M.elementary_row_op(op='n->n+km',row=i-1, k=c, row2=j-1)\n",
    "    return ResultMatrix\n",
    "\n",
    "#Functions to retrieve input from the user\n",
    "\n",
    "def containsNumber(FractionInput):\n",
    "    return any([char.isdigit() for char in FractionInput])\n",
    "\n",
    "def UserInputFrac():\n",
    "    cTemp = ''\n",
    "        \n",
    "    while containsNumber(cTemp) == False:\n",
    "        try:\n",
    "            cTemp = input(\"What are you multiplying by? \")\n",
    "            c = Fraction(cTemp)\n",
    "            break\n",
    "        except ValueError:\n",
    "            print(\"Try entering an integer next time... \", \"\\n\")\n",
    "            continue\n",
    "    return c\n",
    "\n",
    "def UserInputc():\n",
    "    c = ''\n",
    "        \n",
    "    while c is not int:\n",
    "        try:\n",
    "            c = int(input(\"What are you multiplying by? \"))\n",
    "            break\n",
    "        except ValueError:\n",
    "            print(\"Try entering an integer next time... \", \"\\n\")\n",
    "            continue\n",
    "    return c\n",
    "\n",
    "def UserInputi1():\n",
    "    i = ''\n",
    "    \n",
    "    while i is not int:\n",
    "        try:\n",
    "            i = int(input(\"What is the index of the first row? \"))\n",
    "            break\n",
    "        except ValueError:\n",
    "            print(\"Try entering an integer next time... \")\n",
    "            continue\n",
    "    return i\n",
    "        \n",
    "\n",
    "def UserInputj1():\n",
    "    j = ''\n",
    "        \n",
    "    while j is not int:\n",
    "        try:\n",
    "            j = int(input(\"What is the index of the other row we're swapping with? \" ))\n",
    "            break\n",
    "        except ValueError:\n",
    "            print(\"Try entering an integer next time... \")\n",
    "            continue\n",
    "    return j\n",
    "\n",
    "def UserInputi2():\n",
    "    i = ''\n",
    "        \n",
    "    while i is not int:\n",
    "        try:\n",
    "            i = int(input(\"What row is being multiplied? \"))\n",
    "            break\n",
    "        except ValueError:\n",
    "            print(\"Try entering an integer next time... \")\n",
    "            continue\n",
    "    return i\n",
    "\n",
    "def UserInputi3():\n",
    "    i = ''\n",
    "        \n",
    "    while i is not int:\n",
    "        try:\n",
    "            i = int(input(\"What row is getting added to/subtracted from? \"))\n",
    "            break\n",
    "        except ValueError:\n",
    "            print(\"Try entering an integer next time... \")\n",
    "            continue\n",
    "    return i\n",
    "\n",
    "def UserInputj3(i):\n",
    "    j = ''\n",
    "    prompt = \"Which row is being added to row \" + str(i) + \"? \"\n",
    "    \n",
    "    while j is not int:\n",
    "        try:\n",
    "            #print (\"Which row is being added to row \", i, \"? \", sep=\"\")\n",
    "            j = int(input(prompt))\n",
    "            break\n",
    "        except ValueError:\n",
    "            print(\"Try entering an integer next time... \")\n",
    "            continue\n",
    "    return j\n",
    "\n",
    "def UserInputFrac3(j):\n",
    "    cTemp = ''\n",
    "    prompt = \"What are you multiplying row \" + str(j) + \" by? \"\n",
    "\n",
    "\n",
    "    while containsNumber(cTemp) == False:\n",
    "        try:\n",
    "            cTemp = input(prompt)\n",
    "            c = Fraction(cTemp)\n",
    "            break\n",
    "        except ValueError:\n",
    "            print(\"Try entering an integer next time... \", \"\\n\")\n",
    "            continue\n",
    "    \n",
    "    return c\n",
    "\n",
    "def UserInputc3(j):\n",
    "    c = ''\n",
    "    prompt = \"What are you multiplying row \" + str(j) + \" by? \"\n",
    "        \n",
    "    while c is not int:\n",
    "        try:\n",
    "            c = int(input(prompt))\n",
    "            break\n",
    "        except ValueError:\n",
    "            print(\"Try entering an integer next time... \", \"\\n\")\n",
    "            continue\n",
    "    return c\n",
    "\n",
    "\n",
    "def InitialMessage():\n",
    "    UserInput = ''\n",
    "    prompt = \"Which Row Operation would you like to perform? \"\n",
    "\n",
    "    while UserInput is not int:\n",
    "        try:\n",
    "            UserInput = int(input(prompt))\n",
    "            break\n",
    "        except ValueError:\n",
    "            print(\"Please try again... \")\n",
    "            continue\n",
    "            \n",
    "    return UserInput\n",
    "\n",
    "#The Program itself\n",
    "def DoRowOperations(M):\n",
    "    \n",
    "    print(\"Welcome to the Row Reducing Calculator!!\", \"\\n\")\n",
    "    print(\"Lets get started on your matrix: \", \"\\n\")\n",
    "    pprint(M)\n",
    "    \n",
    "    R = findRREF(M)\n",
    "    RowNum = findRowNum(M)\n",
    "    \n",
    "    while (M != R):\n",
    "\n",
    "        UserInput = InitialMessage()\n",
    "        print(\"\\n\")\n",
    "        \n",
    "        #Swap two rows\n",
    "        if UserInput == 1:\n",
    "            print(\"Let's interchange two rows! \")\n",
    "            i = UserInputi1()\n",
    "            while (i > RowNum) or (i < 1):\n",
    "                print(\"Remember your matrix has\", RowNum, \"rows, please enter a valid index.\")\n",
    "                i = UserInputi1()\n",
    "            j = UserInputj1()\n",
    "            while (j > RowNum) or (j < 1) or (j == i):\n",
    "                print(\"Remember your matrix has\", RowNum, \"rows, and you're swapping with row\", i, \"please enter a valid index.\")\n",
    "                j = UserInputj1()\n",
    "            M = rowSwap(M, i, j)\n",
    "            pprint(M)\n",
    "            print('\\n')\n",
    "\n",
    "        #Multiply a row by a constant\n",
    "        if UserInput == 2:\n",
    "            print(\"Let's multiply a row by a constant! \")\n",
    "            i = UserInputi2()\n",
    "            while (i > RowNum) or (i < 1):\n",
    "                print(\"Remember your matrix has\", RowNum, \"rows, please enter a valid index.\")\n",
    "                i = UserInputi2()\n",
    "            c = UserInputFrac()\n",
    "            M = rowMultiply(M, i, c)\n",
    "            pprint(M)\n",
    "            print('\\n')\n",
    "    \n",
    "        #Add/Subtract a multiple of one row from another\n",
    "        if UserInput == 3:\n",
    "            print(\"Let's add a multiple of one row to another row!  \")\n",
    "            i = UserInputi3()\n",
    "            while (i > RowNum) or (i < 1):\n",
    "                print(\"Remember your matrix has\", RowNum, \"rows, please enter a valid index.\")\n",
    "                i = UserInputi3()\n",
    "            j = UserInputj3(i)\n",
    "            while (j > RowNum) or (j < 1) or (j == i):\n",
    "                print(\"Remember your matrix has\", RowNum, \"rows, and you're adding to row\", i, \"please enter a valid index.\")\n",
    "                j = UserInputj3(i)\n",
    "            c = UserInputFrac3(j)\n",
    "            M = rowAdd(M, i, c, j)\n",
    "            pprint(M)\n",
    "            print('\\n')\n",
    "        \n",
    "        #Exit the loop for whatever reason\n",
    "        if UserInput == 404:\n",
    "            print(\"Thanks for using the calculator!\")\n",
    "            break\n",
    "    print(\"You did it! Thanks for using the calculator!\", \"\\n\")\n",
    "    print(\"To use it again, update your matrix and press the double triangle/play button in the top toolbar.\",\"\\n\")\n",
    "\n",
    "    return M\n",
    "\n",
    "# @hidden\n",
    "from IPython.display import HTML\n",
    "HTML('''<script>\n",
    "code_show=true; \n",
    "function code_toggle() {\n",
    " if (code_show){\n",
    " $('.cm-comment:contains(@hidden)').closest('div.input').hide();\n",
    " } else {\n",
    " $('.cm-comment:contains(@hidden)').closest('div.input').show();\n",
    " }\n",
    " code_show = !code_show\n",
    "} \n",
    "$( document ).ready(code_toggle);\n",
    "</script>\n",
    "Want to hide or reveal the source code? click <a href=\"javascript:code_toggle()\">here</a>.''')"
   ]
  },
  {
   "cell_type": "markdown",
   "id": "c9e35565",
   "metadata": {},
   "source": [
    "### Let's start doing Row Operations!\n",
    "**All you need to do is run the cell below (If not already running, as described above) and follow the prompts.**   <br>\n",
    "**Make sure the name of your matrix you defined above is inside of the** `()` <br>\n",
    "***i.e. if your matrix is named `M` make sure the cell below appears as: `DoRowOperations(M)`***\n",
    "##### To Perform Row Operations:  <br>\n",
    "Type `1` to **swap/interchange** rows <br>\n",
    "Type `2` to **multiply** a row by a constant <br>\n",
    "Type `3` to **add/subtract** a multiple of one row from another"
   ]
  },
  {
   "cell_type": "code",
   "execution_count": null,
   "id": "c836ebcc",
   "metadata": {
    "scrolled": false
   },
   "outputs": [],
   "source": [
    "DoRowOperations(M)"
   ]
  },
  {
   "cell_type": "markdown",
   "id": "6281b3c2",
   "metadata": {},
   "source": [
    "### All done? Tell us your thoughts/feedback on the calculator, by clicking [here](https://forms.office.com/Pages/ResponsePage.aspx?id=wmDTjIsGNk6NtSezV5L1P6ijetjYnDpPs8jJzDD5elBUOVE4V1JYUDNYUDZLQlUwOUxOQTUxN0U2Qy4u)"
   ]
  }
 ],
 "metadata": {
  "kernelspec": {
   "display_name": "Python 3 (ipykernel)",
   "language": "python",
   "name": "python3"
  },
  "language_info": {
   "codemirror_mode": {
    "name": "ipython",
    "version": 3
   },
   "file_extension": ".py",
   "mimetype": "text/x-python",
   "name": "python",
   "nbconvert_exporter": "python",
   "pygments_lexer": "ipython3",
   "version": "3.9.7"
  }
 },
 "nbformat": 4,
 "nbformat_minor": 5
}
